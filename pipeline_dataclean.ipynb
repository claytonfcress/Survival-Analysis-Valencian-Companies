{
 "cells": [
  {
   "cell_type": "code",
   "execution_count": 1,
   "metadata": {},
   "outputs": [],
   "source": [
    "import pandas as pd\n",
    "import numpy as np"
   ]
  },
  {
   "cell_type": "code",
   "execution_count": 2,
   "metadata": {},
   "outputs": [],
   "source": [
    "def load_data(file_path, encoding='latin1'):\n",
    "    return pd.read_csv(file_path, encoding=encoding)"
   ]
  },
  {
   "cell_type": "code",
   "execution_count": 3,
   "metadata": {},
   "outputs": [],
   "source": [
    "def clean_capital_column(df, column_name='capital'):\n",
    "    # Remove the thousands separator (.)\n",
    "    df[column_name] = df[column_name].str.replace('.', '', regex=False)\n",
    "    # Replace the decimal separator (,) and convert to float\n",
    "    df[column_name] = df[column_name].str.replace(',', '.', regex=False).astype(float)\n",
    "    return df"
   ]
  },
  {
   "cell_type": "code",
   "execution_count": 4,
   "metadata": {},
   "outputs": [],
   "source": [
    "def drop_unnecessary_columns(df, columns_to_drop):\n",
    "    return df.drop(columns=columns_to_drop)"
   ]
  },
  {
   "cell_type": "code",
   "execution_count": 5,
   "metadata": {},
   "outputs": [],
   "source": [
    "def filter_data(df, column_name='duration', min_value=0):\n",
    "    return df[df[column_name] >= min_value]"
   ]
  },
  {
   "cell_type": "code",
   "execution_count": 6,
   "metadata": {},
   "outputs": [],
   "source": [
    "def apply_log_transform(df, column_name, new_column_name=None, add_constant=False):\n",
    "    if add_constant:\n",
    "        df[new_column_name] = np.log1p(df[column_name])  # log1p(x) = log(1 + x)\n",
    "    else:\n",
    "        df[new_column_name] = np.log(df[column_name])\n",
    "    return df"
   ]
  },
  {
   "cell_type": "code",
   "execution_count": 7,
   "metadata": {},
   "outputs": [],
   "source": [
    "def cap_upper_outliers(df, column_name, upper_quantile=0.99):\n",
    "    upper_bound = df[column_name].quantile(upper_quantile)\n",
    "    df[column_name] = np.minimum(df[column_name], upper_bound)\n",
    "    return df"
   ]
  },
  {
   "cell_type": "code",
   "execution_count": 8,
   "metadata": {},
   "outputs": [],
   "source": [
    "def save_data(df, file_path, encoding='latin1'):\n",
    "    df.to_csv(file_path, index=False, encoding=encoding)"
   ]
  },
  {
   "cell_type": "code",
   "execution_count": 9,
   "metadata": {},
   "outputs": [],
   "source": [
    "def process_valencia_data(file_path_input, file_path_output):\n",
    "    # Step 1: Load data\n",
    "    valencia_data = load_data(file_path_input)\n",
    "\n",
    "    # Step 2: Clean 'capital' column\n",
    "    valencia_data = clean_capital_column(valencia_data, 'capital')\n",
    "\n",
    "    # Step 3: Drop unnecessary columns\n",
    "    columns_to_drop = ['address', 'cleaned_address', 'date', 'distance_to_municipio', 'objeto_social', 'registration_number']\n",
    "    valencia_data_filtered = drop_unnecessary_columns(valencia_data, columns_to_drop)\n",
    "\n",
    "    # Step 4: Filter data where 'duration' >= 0\n",
    "    valencia_data_filtered = filter_data(valencia_data_filtered, 'duration', 0)\n",
    "\n",
    "    # Step 5: Apply log transformation to 'capital'\n",
    "    valencia_data_filtered = apply_log_transform(valencia_data_filtered, 'capital', 'capital_log', add_constant=True)\n",
    "\n",
    "    # Step 6: Cap the upper outliers in 'capital_log'\n",
    "    valencia_data_cleaned = cap_upper_outliers(valencia_data_filtered, 'capital_log')\n",
    "\n",
    "    # Step 7: Apply log transformation to 'Poblacion'\n",
    "    valencia_data_cleaned = apply_log_transform(valencia_data_cleaned, 'Poblacion', 'Poblacion_log')\n",
    "\n",
    "    # Step 8: Save the cleaned data\n",
    "    save_data(valencia_data_cleaned, file_path_output)"
   ]
  },
  {
   "cell_type": "code",
   "execution_count": 10,
   "metadata": {},
   "outputs": [],
   "source": [
    "file_path_input = '/mnt/c/Users/clayt/Data Science/UCM/TFM/Datos/Processed/valencia_data_final_survival.csv'\n",
    "file_path_output = '/mnt/c/Users/clayt/Data Science/UCM/TFM/Datos/Processed/valencia_data_cleaned.csv'\n",
    "\n",
    "process_valencia_data(file_path_input, file_path_output)"
   ]
  },
  {
   "cell_type": "code",
   "execution_count": null,
   "metadata": {},
   "outputs": [],
   "source": []
  }
 ],
 "metadata": {
  "kernelspec": {
   "display_name": "datasci_env",
   "language": "python",
   "name": "python3"
  },
  "language_info": {
   "codemirror_mode": {
    "name": "ipython",
    "version": 3
   },
   "file_extension": ".py",
   "mimetype": "text/x-python",
   "name": "python",
   "nbconvert_exporter": "python",
   "pygments_lexer": "ipython3",
   "version": "3.12.3"
  }
 },
 "nbformat": 4,
 "nbformat_minor": 2
}
