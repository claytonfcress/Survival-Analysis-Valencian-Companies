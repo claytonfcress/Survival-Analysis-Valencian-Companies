{
 "cells": [
  {
   "cell_type": "code",
   "execution_count": 14,
   "metadata": {},
   "outputs": [],
   "source": [
    "import pandas as pd\n",
    "import numpy as np\n",
    "from geopy.distance import great_circle\n",
    "from sklearn.neighbors import BallTree"
   ]
  },
  {
   "cell_type": "markdown",
   "metadata": {},
   "source": [
    "Load Data"
   ]
  },
  {
   "cell_type": "code",
   "execution_count": 2,
   "metadata": {},
   "outputs": [],
   "source": [
    "def load_data(file_path, encoding='latin1'):\n",
    "    return pd.read_csv(file_path, encoding=encoding)"
   ]
  },
  {
   "cell_type": "markdown",
   "metadata": {},
   "source": [
    "Add 'urbano' Column"
   ]
  },
  {
   "cell_type": "code",
   "execution_count": 3,
   "metadata": {},
   "outputs": [],
   "source": [
    "def add_urbano_column(df, population_column='Poblacion', threshold=50000):\n",
    "    df['urbano'] = (df[population_column] > threshold).astype(int)\n",
    "    return df\n"
   ]
  },
  {
   "cell_type": "markdown",
   "metadata": {},
   "source": [
    "Haversine Function For Efficiency"
   ]
  },
  {
   "cell_type": "code",
   "execution_count": 4,
   "metadata": {},
   "outputs": [],
   "source": [
    "def haversine(lat1, lon1, lat2, lon2):\n",
    "    \"\"\"Calculate the great circle distance between two points on the earth in meters.\"\"\"\n",
    "    lat1, lon1, lat2, lon2 = map(np.radians, [lat1, lon1, lat2, lon2])\n",
    "    dlat = lat2 - lat1\n",
    "    dlon = lon2 - lon1\n",
    "    a = np.sin(dlat / 2) ** 2 + np.cos(lat1) * np.cos(lat2) * np.sin(dlon / 2) ** 2\n",
    "    c = 2 * np.arcsin(np.sqrt(a))\n",
    "    km = 6367 * c\n",
    "    return km * 1000  # return in meters\n"
   ]
  },
  {
   "cell_type": "markdown",
   "metadata": {},
   "source": [
    "Calculate Competitors"
   ]
  },
  {
   "cell_type": "code",
   "execution_count": 5,
   "metadata": {},
   "outputs": [],
   "source": [
    "def calculate_competitors(df, radius):\n",
    "    \"\"\"Calculate the number of competitors within a given radius based on geolocation and feature similarity.\"\"\"\n",
    "    coords = np.radians(df[['latitude', 'longitude']].values)\n",
    "    tree = BallTree(coords, metric='haversine')\n",
    "    indices = tree.query_radius(coords, r=radius / 6371000)\n",
    "\n",
    "    features = df.iloc[:, 34:55].values\n",
    "    competitors_count = np.zeros(len(df), dtype=int)\n",
    "\n",
    "    for i, neighbors in enumerate(indices):\n",
    "        valid_neighbors = neighbors[neighbors != i]\n",
    "        matches = np.all(features[i] == features[valid_neighbors], axis=1)\n",
    "        competitors_count[i] = np.sum(matches)\n",
    "\n",
    "    return competitors_count\n"
   ]
  },
  {
   "cell_type": "markdown",
   "metadata": {},
   "source": [
    "Add Competitors Columns"
   ]
  },
  {
   "cell_type": "code",
   "execution_count": 6,
   "metadata": {},
   "outputs": [],
   "source": [
    "def add_competitors_columns(df, radii):\n",
    "    for radius in radii:\n",
    "        df[f'competitors_{radius}m'] = calculate_competitors(df, radius)\n",
    "    return df\n"
   ]
  },
  {
   "cell_type": "markdown",
   "metadata": {},
   "source": [
    "Calculate Sector Ratios"
   ]
  },
  {
   "cell_type": "code",
   "execution_count": 7,
   "metadata": {},
   "outputs": [],
   "source": [
    "def calculate_sector_ratios(df):\n",
    "    sector_columns = [f\"Sector {chr(i)}\" for i in range(ord('A'), ord('U') + 1)] + ['Sin Actividad', 'Total']\n",
    "\n",
    "    for sector in sector_columns:\n",
    "        df[sector + ' Ratio'] = df[sector] / df['Poblacion']\n",
    "\n",
    "    df.drop(columns=sector_columns, inplace=True)\n",
    "    return df\n"
   ]
  },
  {
   "cell_type": "markdown",
   "metadata": {},
   "source": [
    "Update Unemployment Metrics"
   ]
  },
  {
   "cell_type": "code",
   "execution_count": 8,
   "metadata": {},
   "outputs": [],
   "source": [
    "def update_unemployment_metrics(df):\n",
    "    sectors = ['A', 'B', 'C', 'D', 'E', 'F', 'G', 'H', 'I', 'J', 'K', 'L', 'M', 'N', 'O', 'P', 'Q', 'R', 'S', 'T', 'U']\n",
    "    sector_binary_columns = [f'sector_{sector}' for sector in sectors]\n",
    "    sector_ratio_columns = [f'Sector {sector} Ratio' for sector in sectors]\n",
    "\n",
    "    for binary_col, ratio_col in zip(sector_binary_columns, sector_ratio_columns):\n",
    "        df[ratio_col] = df[binary_col] * df[ratio_col]\n",
    "\n",
    "    return df\n"
   ]
  },
  {
   "cell_type": "markdown",
   "metadata": {},
   "source": [
    "Calculate Business Density"
   ]
  },
  {
   "cell_type": "code",
   "execution_count": 9,
   "metadata": {},
   "outputs": [],
   "source": [
    "def business_density(df):\n",
    "    if 'municipio' not in df.columns or 'Poblacion' not in df.columns:\n",
    "        raise ValueError(\"DataFrame must contain 'municipio' and 'Poblacion' columns.\")\n",
    "\n",
    "    sector_columns = [col for col in df.columns if 'sector_' in col and col != 'sector_count']\n",
    "    sector_totals = df.groupby('municipio')[sector_columns].sum()\n",
    "    population = df.groupby('municipio')['Poblacion'].mean()\n",
    "    sector_density = sector_totals.div(population, axis=0)\n",
    "    sector_density.columns = [f'{col}_density' for col in sector_density.columns]\n",
    "\n",
    "    df = df.merge(sector_density, on='municipio', how='left')\n",
    "    return df\n"
   ]
  },
  {
   "cell_type": "markdown",
   "metadata": {},
   "source": [
    "Update Sector Density Metrics"
   ]
  },
  {
   "cell_type": "code",
   "execution_count": 10,
   "metadata": {},
   "outputs": [],
   "source": [
    "def update_sector_density_metrics(df):\n",
    "    sectors = ['A', 'B', 'C', 'D', 'E', 'F', 'G', 'H', 'I', 'J', 'K', 'L', 'M', 'N', 'O', 'P', 'Q', 'R', 'S', 'T', 'U']\n",
    "    sector_binary_columns = [f'sector_{sector}' for sector in sectors]\n",
    "    sector_density_columns = [f'sector_{sector}_density' for sector in sectors]\n",
    "\n",
    "    for binary_col, density_col in zip(sector_binary_columns, sector_density_columns):\n",
    "        df[density_col] = df[binary_col] * df[density_col]\n",
    "\n",
    "    return df\n"
   ]
  },
  {
   "cell_type": "markdown",
   "metadata": {},
   "source": [
    "Save Data"
   ]
  },
  {
   "cell_type": "code",
   "execution_count": 11,
   "metadata": {},
   "outputs": [],
   "source": [
    "def save_data(df, file_path, encoding='latin1'):\n",
    "    df.to_csv(file_path, index=False, encoding=encoding)\n",
    "    "
   ]
  },
  {
   "cell_type": "markdown",
   "metadata": {},
   "source": [
    "Main Script"
   ]
  },
  {
   "cell_type": "code",
   "execution_count": 12,
   "metadata": {},
   "outputs": [],
   "source": [
    "def process_valencia_data(file_path_input, file_path_output):\n",
    "    # Step 1: Load data\n",
    "    valencia_data = load_data(file_path_input)\n",
    "\n",
    "    # Step 2: Add 'urbano' column\n",
    "    valencia_data = add_urbano_column(valencia_data)\n",
    "\n",
    "    # Step 3: Calculate competitors within specified radii\n",
    "    radii = [500, 1000, 3000]  # in meters\n",
    "    valencia_data = add_competitors_columns(valencia_data, radii)\n",
    "\n",
    "    # Step 4: Calculate sector ratios\n",
    "    valencia_data = calculate_sector_ratios(valencia_data)\n",
    "\n",
    "    # Step 5: Update unemployment metrics\n",
    "    valencia_data = update_unemployment_metrics(valencia_data)\n",
    "\n",
    "    # Step 6: Calculate business density\n",
    "    valencia_data_dense = business_density(valencia_data)\n",
    "\n",
    "    # Step 7: Update sector density metrics\n",
    "    valencia_data_dense = update_sector_density_metrics(valencia_data_dense)\n",
    "\n",
    "    # Step 8: Save the cleaned data\n",
    "    save_data(valencia_data_dense, file_path_output)\n"
   ]
  },
  {
   "cell_type": "code",
   "execution_count": 15,
   "metadata": {},
   "outputs": [],
   "source": [
    "file_path_input = '/mnt/c/Users/clayt/Data Science/UCM/TFM/Datos/Processed/valencia_data_cleaned.csv'\n",
    "file_path_output = '/mnt/c/Users/clayt/Data Science/UCM/TFM/Datos/Processed/valencia_data_feature_engineer.csv'\n",
    "\n",
    "process_valencia_data(file_path_input, file_path_output)"
   ]
  },
  {
   "cell_type": "code",
   "execution_count": null,
   "metadata": {},
   "outputs": [],
   "source": []
  }
 ],
 "metadata": {
  "kernelspec": {
   "display_name": "datasci_env",
   "language": "python",
   "name": "python3"
  },
  "language_info": {
   "codemirror_mode": {
    "name": "ipython",
    "version": 3
   },
   "file_extension": ".py",
   "mimetype": "text/x-python",
   "name": "python",
   "nbconvert_exporter": "python",
   "pygments_lexer": "ipython3",
   "version": "3.12.3"
  }
 },
 "nbformat": 4,
 "nbformat_minor": 2
}
