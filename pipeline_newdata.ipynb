{
 "cells": [
  {
   "cell_type": "code",
   "execution_count": null,
   "metadata": {},
   "outputs": [],
   "source": [
    "import pandas as pd\n",
    "from geopy.distance import great_circle\n"
   ]
  },
  {
   "cell_type": "code",
   "execution_count": null,
   "metadata": {},
   "outputs": [],
   "source": [
    "def load_csv(file_path, encoding='latin1', sep=','):\n",
    "    return pd.read_csv(file_path, encoding=encoding, sep=sep)\n",
    "\n",
    "def load_excel(file_path, sheet_name=None):\n",
    "    return pd.read_excel(file_path, sheet_name=sheet_name)"
   ]
  },
  {
   "cell_type": "code",
   "execution_count": null,
   "metadata": {},
   "outputs": [],
   "source": [
    "def preprocess_geocode(geocode_df):\n",
    "    geocode_df.dropna(subset=['latitude', 'longitude'], inplace=True)\n",
    "    geocode_df['latitude'] = pd.to_numeric(geocode_df['latitude'])\n",
    "    geocode_df['longitude'] = pd.to_numeric(geocode_df['longitude'])\n",
    "    return geocode_df"
   ]
  },
  {
   "cell_type": "code",
   "execution_count": null,
   "metadata": {},
   "outputs": [],
   "source": [
    "def find_closest_municipio(company_lat, company_lon, municipio_df):\n",
    "    min_distance = float('inf')\n",
    "    closest_municipio = None\n",
    "    for _, municipio in municipio_df.iterrows():\n",
    "        municipio_lat = municipio['latitud']\n",
    "        municipio_lon = municipio['longitud']\n",
    "        distance = great_circle((company_lat, company_lon), (municipio_lat, municipio_lon)).kilometers\n",
    "        if distance < min_distance:\n",
    "            min_distance = distance\n",
    "            closest_municipio = municipio\n",
    "    return closest_municipio, min_distance\n",
    "\n",
    "def match_companies_to_municipio(companies_df, municipio_df):\n",
    "    matched_df = companies_df.copy()\n",
    "    matched_df['municipio'] = None\n",
    "    matched_df['distance_to_municipio'] = float('inf')\n",
    "    for index, company in companies_df.iterrows():\n",
    "        closest_municipio, distance = find_closest_municipio(\n",
    "            company['latitude'], company['longitude'], municipio_df\n",
    "        )\n",
    "        matched_df.at[index, 'municipio'] = closest_municipio['municipio']\n",
    "        matched_df.at[index, 'distance_to_municipio'] = distance\n",
    "    return matched_df"
   ]
  },
  {
   "cell_type": "code",
   "execution_count": null,
   "metadata": {},
   "outputs": [],
   "source": [
    "def process_dates(df):\n",
    "    df['date'] = pd.to_datetime(df['date'], format='%m/%d/%Y')\n",
    "    df['Ano'] = df['date'].dt.year\n",
    "    return df\n",
    "\n",
    "def join_with_max_year(df1, df2, left_on, right_on, year_column):\n",
    "    result_df = pd.merge(df1, df2, left_on=left_on, right_on=right_on, how='left')\n",
    "    most_recent_df = df2.loc[df2.groupby(right_on[1])[year_column].idxmax()].drop(columns=year_column)\n",
    "    fallback_df = pd.merge(df1[left_on[1:]], most_recent_df, left_on=left_on[1:], right_on=right_on[1:], how='left')\n",
    "    final_df = result_df.combine_first(fallback_df)\n",
    "    return final_df\n",
    "\n",
    "def join_dfs(df1, df2, left_columns, right_columns):\n",
    "    if len(left_columns) != len(right_columns):\n",
    "        raise ValueError(\"The lengths of left_columns and right_columns must match.\")\n",
    "    result_df = pd.merge(df1, df2, left_on=left_columns, right_on=right_columns, how='left')\n",
    "    return result_df"
   ]
  },
  {
   "cell_type": "code",
   "execution_count": null,
   "metadata": {},
   "outputs": [],
   "source": [
    "def save_to_csv(df, file_path, encoding='latin1'):\n",
    "    df.to_csv(file_path, index=False, encoding=encoding)"
   ]
  },
  {
   "cell_type": "code",
   "execution_count": null,
   "metadata": {},
   "outputs": [],
   "source": [
    "# Load data\n",
    "geocode = load_csv('/mnt/c/Users/clayt/Data Science/UCM/TFM/Datos/Processed/data_valencia_geocoded_final_survival.csv')\n",
    "municipios = load_csv('/mnt/c/Users/clayt/Data Science/UCM/TFM/Datos/Raw/valencia_municipios.csv')\n",
    "poblacion = load_excel('/mnt/c/Users/clayt/Data Science/UCM/TFM/Datos/Raw/poblacion_municipios_valencia.xlsx')\n",
    "paro = load_excel('/mnt/c/Users/clayt/Data Science/UCM/TFM/Datos/Raw/paro_municipio_sector.xlsx')\n",
    "\n",
    "# Preprocess geocode data\n",
    "geocode = preprocess_geocode(geocode)\n",
    "\n",
    "# Match companies to municipalities\n",
    "geocode_municipio = match_companies_to_municipio(geocode, municipios)\n",
    "\n",
    "# Process dates\n",
    "geocode_municipio = process_dates(geocode_municipio)\n",
    "\n",
    "# Join with population data\n",
    "geocode_mun_pob = join_with_max_year(geocode_municipio, poblacion, left_on=['Ano', 'municipio'], right_on=['Ano', 'Municipio'], year_column='Ano')\n",
    "geocode_mun_pob.drop(columns=['Municipio'], inplace=True)\n",
    "\n",
    "# Join with unemployment data\n",
    "geocode_mun_pob_paro = join_dfs(geocode_mun_pob, paro, left_columns=['Ano', 'municipio'], right_columns=['Ano', 'Municipio'])\n",
    "geocode_mun_pob_paro.drop(columns=['Municipio'], inplace=True)\n",
    "\n",
    "# Drop rows with NaN values\n",
    "geocode_mun_pob_paro_final = geocode_mun_pob_paro.dropna()\n",
    "\n",
    "# Save the final DataFrame\n",
    "save_to_csv(geocode_mun_pob_paro_final, '/mnt/c/Users/clayt/Data Science/UCM/TFM/Datos/Processed/valencia_geocoded_pob_paro_survival.csv')"
   ]
  }
 ],
 "metadata": {
  "kernelspec": {
   "display_name": "datasci_env",
   "language": "python",
   "name": "python3"
  },
  "language_info": {
   "codemirror_mode": {
    "name": "ipython",
    "version": 3
   },
   "file_extension": ".py",
   "mimetype": "text/x-python",
   "name": "python",
   "nbconvert_exporter": "python",
   "pygments_lexer": "ipython3",
   "version": "3.12.3"
  }
 },
 "nbformat": 4,
 "nbformat_minor": 2
}
