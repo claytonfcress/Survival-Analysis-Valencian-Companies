{
 "cells": [
  {
   "cell_type": "code",
   "execution_count": null,
   "metadata": {},
   "outputs": [],
   "source": [
    "import pandas as pd\n",
    "from sklearn.preprocessing import StandardScaler"
   ]
  },
  {
   "cell_type": "markdown",
   "metadata": {},
   "source": [
    "Load Data"
   ]
  },
  {
   "cell_type": "code",
   "execution_count": null,
   "metadata": {},
   "outputs": [],
   "source": [
    "def load_data(file_path, encoding='latin1'):\n",
    "    return pd.read_csv(file_path, encoding=encoding)"
   ]
  },
  {
   "cell_type": "markdown",
   "metadata": {},
   "source": [
    "Drop Unnecessary Columns"
   ]
  },
  {
   "cell_type": "code",
   "execution_count": null,
   "metadata": {},
   "outputs": [],
   "source": [
    "def drop_columns(df, columns_to_drop):\n",
    "    df.drop(columns=columns_to_drop, inplace=True)\n",
    "    return df"
   ]
  },
  {
   "cell_type": "markdown",
   "metadata": {},
   "source": [
    "Prepare Base Model"
   ]
  },
  {
   "cell_type": "code",
   "execution_count": null,
   "metadata": {},
   "outputs": [],
   "source": [
    "def prepare_base_model(df):\n",
    "    base_model = df[['Ano', 'Mes', 'capital_log', 'duration', 'failure',\n",
    "                     'socio_unico', 'longitude', 'latitude', 'Poblacion_log',\n",
    "                     'Sector A Ratio', 'Sector B Ratio', 'Sector C Ratio', 'Sector D Ratio', 'Sector E Ratio',\n",
    "                     'Sector F Ratio', 'Sector G Ratio', 'Sector H Ratio', 'Sector I Ratio', 'Sector J Ratio',\n",
    "                     'Sector K Ratio', 'Sector L Ratio', 'Sector M Ratio', 'Sector N Ratio', 'Sector O Ratio',\n",
    "                     'Sector P Ratio', 'Sector Q Ratio', 'Sector R Ratio', 'Sector S Ratio', 'Sector T Ratio',\n",
    "                     'sector_A_density', 'sector_B_density', 'sector_C_density', 'sector_D_density', 'sector_E_density', \n",
    "                     'sector_F_density', 'sector_G_density', 'sector_H_density', 'sector_I_density', 'sector_J_density',\n",
    "                     'sector_K_density', 'sector_L_density', 'sector_M_density', 'sector_N_density', 'sector_O_density', \n",
    "                     'sector_P_density', 'sector_Q_density', 'sector_R_density', 'sector_S_density', 'sector_T_density', \n",
    "                     'urbano', 'competitors_500m']]\n",
    "    return base_model"
   ]
  },
  {
   "cell_type": "markdown",
   "metadata": {},
   "source": [
    "Standardize Features"
   ]
  },
  {
   "cell_type": "code",
   "execution_count": null,
   "metadata": {},
   "outputs": [],
   "source": [
    "def standardize_features(df, features_to_scale):\n",
    "    scaler = StandardScaler()\n",
    "    df[features_to_scale] = scaler.fit_transform(df[features_to_scale])\n",
    "    return df"
   ]
  },
  {
   "cell_type": "markdown",
   "metadata": {},
   "source": [
    "Save Data"
   ]
  },
  {
   "cell_type": "code",
   "execution_count": null,
   "metadata": {},
   "outputs": [],
   "source": [
    "def save_data(df, file_path, encoding='latin1'):\n",
    "    df.to_csv(file_path, index=False, encoding=encoding)"
   ]
  },
  {
   "cell_type": "markdown",
   "metadata": {},
   "source": [
    "Main Function"
   ]
  },
  {
   "cell_type": "code",
   "execution_count": null,
   "metadata": {},
   "outputs": [],
   "source": [
    "def process_model_data(input_file_path, output_file_path):\n",
    "    # Step 1: Load data\n",
    "    valencia_data = load_data(input_file_path)\n",
    "    \n",
    "    # Step 2: Drop unnecessary columns\n",
    "    valencia_data = drop_columns(valencia_data, ['company_name'])\n",
    "    \n",
    "    # Step 3: Prepare base model data\n",
    "    base_model = prepare_base_model(valencia_data)\n",
    "    \n",
    "    # Step 4: Standardize features\n",
    "    features_to_scale = [col for col in base_model.columns if col not in ['duration', 'failure', 'socio_unico', \n",
    "                     'urbano']]\n",
    "    base_model = standardize_features(base_model, features_to_scale)\n",
    "    \n",
    "    # Step 5: Save the processed data\n",
    "    save_data(base_model, output_file_path)"
   ]
  },
  {
   "cell_type": "code",
   "execution_count": null,
   "metadata": {},
   "outputs": [],
   "source": [
    "input_file_path = '/mnt/c/Users/clayt/Data Science/UCM/TFM/Datos/Processed/valencia_data_feature_engineer.csv'\n",
    "output_file_path = '/mnt/c/Users/clayt/Data Science/UCM/TFM/Datos/Processed/valencia_model_survival.csv'\n",
    "\n",
    "process_model_data(input_file_path, output_file_path)"
   ]
  },
  {
   "cell_type": "code",
   "execution_count": null,
   "metadata": {},
   "outputs": [],
   "source": []
  }
 ],
 "metadata": {
  "kernelspec": {
   "display_name": "datasci_env",
   "language": "python",
   "name": "python3"
  },
  "language_info": {
   "codemirror_mode": {
    "name": "ipython",
    "version": 3
   },
   "file_extension": ".py",
   "mimetype": "text/x-python",
   "name": "python",
   "nbconvert_exporter": "python",
   "pygments_lexer": "ipython3",
   "version": "3.12.3"
  }
 },
 "nbformat": 4,
 "nbformat_minor": 2
}
