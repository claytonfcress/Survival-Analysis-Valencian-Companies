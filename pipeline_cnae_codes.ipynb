{
 "cells": [
  {
   "cell_type": "code",
   "execution_count": null,
   "metadata": {},
   "outputs": [],
   "source": [
    "import pandas as pd\n",
    "import re\n",
    "from sentence_transformers import SentenceTransformer, util"
   ]
  },
  {
   "cell_type": "code",
   "execution_count": null,
   "metadata": {},
   "outputs": [],
   "source": [
    "def load_csv(file_path, encoding='latin1', sep=',', usecols=None):\n",
    "    return pd.read_csv(file_path, encoding=encoding, sep=sep, usecols=usecols)"
   ]
  },
  {
   "cell_type": "code",
   "execution_count": null,
   "metadata": {},
   "outputs": [],
   "source": [
    "def preprocess_cnae_codes(cnae_df):\n",
    "    # Filter rows where CODINTEGR has more than 4 characters\n",
    "    cnae_df = cnae_df[cnae_df['CODINTEGR'].str.len() > 4]\n",
    "    # Extract sector and CNAE code\n",
    "    cnae_df['sector'] = cnae_df['CODINTEGR'].str[0]\n",
    "    cnae_df['cnae_code'] = cnae_df['CODINTEGR'].str[1:]\n",
    "    # Rename the 'TITULO_CNAE2009' column to 'defin'\n",
    "    cnae_df = cnae_df.rename(columns={'TITULO_CNAE2009': 'defin'})\n",
    "    # Drop the original CODINTEGR column\n",
    "    cnae_df = cnae_df.drop(columns=['CODINTEGR'])\n",
    "    return cnae_df"
   ]
  },
  {
   "cell_type": "code",
   "execution_count": null,
   "metadata": {},
   "outputs": [],
   "source": [
    "def clean_text(text):\n",
    "    page_title_pattern = (\n",
    "        r'bolet[íi]n oficial del registro mercantil núm\\. \\d+ '\n",
    "        r'(?:\\w+ \\d+ de \\w+ de \\d+|[a-z]+ \\d+ [a-z]+ de \\d+) '\n",
    "        r'pág\\. \\d+ cve: borme-\\w+-\\d+-\\d+(-\\d+)?'\n",
    "    )\n",
    "    text = re.sub(page_title_pattern, '', text)\n",
    "    text = text.strip()\n",
    "    return text\n",
    "\n",
    "def preprocess_text(text):\n",
    "    text = clean_text(text)\n",
    "    text = text.lower()\n",
    "    return text"
   ]
  },
  {
   "cell_type": "code",
   "execution_count": null,
   "metadata": {},
   "outputs": [],
   "source": [
    "def split_text(description, valid_cnae_codes):\n",
    "    if not isinstance(description, str):\n",
    "        return []\n",
    "\n",
    "    description = preprocess_text(description)\n",
    "\n",
    "    # Define patterns for CNAE codes\n",
    "    cnae_pattern_4_digits = re.compile(r'\\b\\d{4}\\b')\n",
    "    cnae_pattern_xx_xx = re.compile(r'(\\d{2})\\.(\\d{2})')\n",
    "\n",
    "    # Extract CNAE codes\n",
    "    matches = cnae_pattern_4_digits.findall(description)\n",
    "    matches += [m[0] + m[1] for m in cnae_pattern_xx_xx.findall(description)]\n",
    "    \n",
    "    # Filter valid CNAE codes\n",
    "    matches = [match for match in matches if match in valid_cnae_codes]\n",
    "    if matches:\n",
    "        return list(set(matches))\n",
    "\n",
    "    # Split by specific patterns or sentence boundaries\n",
    "    specific_split_patterns = re.compile(r'(\\d+\\.)|([a-zA-Z]\\))')\n",
    "    specific_segments = specific_split_patterns.split(description)\n",
    "    specific_segments = [seg.strip() for seg in specific_segments if seg and seg.strip() not in ['.', ')']]\n",
    "    \n",
    "    if len(specific_segments) > 1:\n",
    "        return list(set(specific_segments))\n",
    "\n",
    "    sentence_split_patterns = re.compile(r'(\\n)|(\\.)')\n",
    "    sentence_segments = sentence_split_patterns.split(description)\n",
    "    segments = [seg.strip() for seg in sentence_segments if seg and seg.strip()]\n",
    "\n",
    "    return list(set(segments))"
   ]
  },
  {
   "cell_type": "code",
   "execution_count": null,
   "metadata": {},
   "outputs": [],
   "source": [
    "def encode_description(description, model):\n",
    "    if not description:\n",
    "        return None\n",
    "    return model.encode(description, convert_to_tensor=True)\n",
    "\n",
    "def process_row(row, cnae_codes, valid_cnae_codes, cnae_embeddings, model, sector_columns):\n",
    "    segments = split_text(row.get('objeto_social', ''), valid_cnae_codes)\n",
    "    sectors_found = set()\n",
    "\n",
    "    for segment in segments:\n",
    "        if segment in valid_cnae_codes:\n",
    "            sector = cnae_codes[cnae_codes['cnae_code'] == segment]['sector'].values\n",
    "            if sector:\n",
    "                sectors_found.update(sector)\n",
    "        else:\n",
    "            split_embedding = encode_description(segment, model)\n",
    "            if split_embedding is None:\n",
    "                continue\n",
    "\n",
    "            similarities = util.pytorch_cos_sim(split_embedding, cnae_embeddings)\n",
    "            max_similarity = similarities.max()\n",
    "            best_match_index = similarities.argmax().item()\n",
    "            best_match_sector = cnae_codes['sector'].iloc[best_match_index]\n",
    "\n",
    "            if max_similarity >= 0.5:\n",
    "                sectors_found.add(best_match_sector)\n",
    "\n",
    "    result = {sector_columns[sector]: 1 for sector in sectors_found}\n",
    "    result['sector_count'] = len(sectors_found)\n",
    "    return pd.Series(result)"
   ]
  },
  {
   "cell_type": "code",
   "execution_count": null,
   "metadata": {},
   "outputs": [],
   "source": [
    "def initialize_sector_columns(valencia_empresas, sector_columns):\n",
    "    for column in sector_columns.values():\n",
    "        if column not in valencia_empresas.columns:\n",
    "            valencia_empresas[column] = 0\n",
    "\n",
    "def process_data(valencia_empresas, cnae_codes, valid_cnae_codes, model):\n",
    "    cnae_embeddings = model.encode(cnae_codes['defin'].tolist(), convert_to_tensor=True)\n",
    "\n",
    "    # Define sector columns\n",
    "    sectors = cnae_codes['sector'].unique()\n",
    "    sector_columns = {sector: f'sector_{sector}' for sector in sectors}\n",
    "\n",
    "    # Initialize sector columns in the valencia_empresas dataframe\n",
    "    initialize_sector_columns(valencia_empresas, sector_columns)\n",
    "\n",
    "    # Apply the processing to each row\n",
    "    processed_results = valencia_empresas.apply(\n",
    "        lambda row: process_row(row, cnae_codes, valid_cnae_codes, cnae_embeddings, model, sector_columns), axis=1\n",
    "    )\n",
    "\n",
    "    return processed_results"
   ]
  },
  {
   "cell_type": "code",
   "execution_count": null,
   "metadata": {},
   "outputs": [],
   "source": [
    "def save_to_csv(df, file_path, encoding='latin1'):\n",
    "    df.to_csv(file_path, index=False, encoding=encoding)"
   ]
  },
  {
   "cell_type": "code",
   "execution_count": null,
   "metadata": {},
   "outputs": [],
   "source": [
    "# Load data\n",
    "cnae_codes = load_csv(r'/mnt/c/Users/clayt/Data Science/UCM/TFM/Datos/Raw/CNAE_Codes_Spanish.csv', usecols=['CODINTEGR', 'TITULO_CNAE2009'])\n",
    "valencia_empresas = load_csv(r'/mnt/c/Users/clayt/Data Science/UCM/TFM/Datos/Processed/valencia_geocoded_pob_paro_survival.csv')\n",
    "\n",
    "# Preprocess CNAE codes\n",
    "cnae_codes = preprocess_cnae_codes(cnae_codes)\n",
    "\n",
    "# Extract valid CNAE codes\n",
    "valid_cnae_codes = set(cnae_codes['cnae_code'].astype(str))\n",
    "\n",
    "# Load the Sentence-BERT model\n",
    "model = SentenceTransformer('paraphrase-multilingual-MiniLM-L12-v2')\n",
    "\n",
    "# Process the data\n",
    "processed_results = process_data(valencia_empresas, cnae_codes, valid_cnae_codes, model)\n",
    "\n",
    "# Merge the results back into the valencia_empresas dataframe\n",
    "valencia_empresas.update(processed_results)\n",
    "\n",
    "# Save the final dataframe\n",
    "save_to_csv(valencia_empresas, r'/mnt/c/Users/clayt/Data Science/UCM/TFM/Datos/Processed/valencia_data_final_survival.csv')"
   ]
  }
 ],
 "metadata": {
  "kernelspec": {
   "display_name": "datasci_env",
   "language": "python",
   "name": "python3"
  },
  "language_info": {
   "codemirror_mode": {
    "name": "ipython",
    "version": 3
   },
   "file_extension": ".py",
   "mimetype": "text/x-python",
   "name": "python",
   "nbconvert_exporter": "python",
   "pygments_lexer": "ipython3",
   "version": "3.12.3"
  }
 },
 "nbformat": 4,
 "nbformat_minor": 2
}
